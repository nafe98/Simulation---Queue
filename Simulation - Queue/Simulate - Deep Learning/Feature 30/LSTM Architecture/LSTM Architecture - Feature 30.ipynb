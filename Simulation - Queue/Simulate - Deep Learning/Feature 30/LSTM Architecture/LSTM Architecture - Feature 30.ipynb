{
 "cells": [
  {
   "cell_type": "markdown",
   "id": "105575c6-36a4-480b-a9c1-a4e658be709b",
   "metadata": {},
   "source": [
    "# Loading the Preprocessed Data"
   ]
  },
  {
   "cell_type": "code",
   "execution_count": 1,
   "id": "aa4ef518-4897-4bf9-9de5-c6d131e3e592",
   "metadata": {},
   "outputs": [],
   "source": [
    "import os\n",
    "import numpy as np\n",
    "\n",
    "# Load the arrays\n",
    "X_train = np.load('../Dataset/Train Test Dataset - Feature 30/X_train.npy')\n",
    "X_test = np.load('../Dataset/Train Test Dataset - Feature 30/X_test.npy')\n",
    "y_train = np.load('../Dataset/Train Test Dataset - Feature 30/y_train.npy')\n",
    "y_test = np.load('../Dataset/Train Test Dataset - Feature 30/y_test.npy')"
   ]
  },
  {
   "cell_type": "markdown",
   "id": "7d9b3a01",
   "metadata": {},
   "source": [
    "<div style=\"background-color: #cce5ff; padding: 10px; border: 1px solid #0066cc;\">\n",
    "    <h2 style=\"color: #0066cc; font-weight: bold;\">Deep Learning Architecture - LSTM</h2>\n",
    "    \n",
    "</div>\n"
   ]
  },
  {
   "cell_type": "markdown",
   "id": "7c92ddfc",
   "metadata": {},
   "source": [
    "# Importing Libraries - Architecture"
   ]
  },
  {
   "cell_type": "code",
   "execution_count": 2,
   "id": "c5f6fce3",
   "metadata": {},
   "outputs": [],
   "source": [
    "import time\n",
    "import tensorflow as tf\n",
    "from keras.layers import LSTM\n",
    "import matplotlib.pyplot as plt\n",
    "from keras.optimizers import Adam\n",
    "from keras.callbacks import EarlyStopping\n",
    "from tensorflow.keras.optimizers import Adam\n",
    "from tensorflow.keras.models import Sequential\n",
    "from sklearn.model_selection import train_test_split\n",
    "from tensorflow.keras.callbacks import LearningRateScheduler\n",
    "from tensorflow.keras.layers import Dense, Dropout, BatchNormalization, LeakyReLU"
   ]
  },
  {
   "cell_type": "markdown",
   "id": "dc076fef",
   "metadata": {},
   "source": [
    "### Reshaping X_train for LSTM"
   ]
  },
  {
   "cell_type": "code",
   "execution_count": 3,
   "id": "47b8cc34",
   "metadata": {},
   "outputs": [],
   "source": [
    "X_train_array = X_train  \n",
    "X_train_reshaped = X_train_array.reshape(X_train_array.shape[0], X_train_array.shape[1], 1)\n",
    "input_shape = (X_train_reshaped.shape[1], X_train_reshaped.shape[2])"
   ]
  },
  {
   "cell_type": "code",
   "execution_count": 4,
   "id": "d7e921d0",
   "metadata": {},
   "outputs": [
    {
     "data": {
      "text/plain": [
       "(16, 1)"
      ]
     },
     "execution_count": 4,
     "metadata": {},
     "output_type": "execute_result"
    }
   ],
   "source": [
    "input_shape"
   ]
  },
  {
   "cell_type": "markdown",
   "id": "0b262f18",
   "metadata": {},
   "source": [
    "# 1. Network Initialization"
   ]
  },
  {
   "cell_type": "code",
   "execution_count": 5,
   "id": "80a9eccd",
   "metadata": {},
   "outputs": [],
   "source": [
    "batch_size = 700  \n",
    "epochs = 500  \n",
    "learning_rate = 0.001"
   ]
  },
  {
   "cell_type": "markdown",
   "id": "e7fac21c",
   "metadata": {},
   "source": [
    "# 2. Define Architecture"
   ]
  },
  {
   "cell_type": "code",
   "execution_count": 6,
   "id": "a86494ea",
   "metadata": {},
   "outputs": [
    {
     "name": "stdout",
     "output_type": "stream",
     "text": [
      "WARNING:tensorflow:Layer lstm will not use cuDNN kernels since it doesn't meet the criteria. It will use a generic GPU kernel as fallback when running on GPU.\n",
      "WARNING:tensorflow:Layer lstm_1 will not use cuDNN kernels since it doesn't meet the criteria. It will use a generic GPU kernel as fallback when running on GPU.\n"
     ]
    }
   ],
   "source": [
    "lstm_model = Sequential([\n",
    "    \n",
    "    LSTM(512, input_shape=input_shape, activation='relu', return_sequences=True),\n",
    "    Dropout(0.1), \n",
    "    LSTM(256, activation='relu'),\n",
    "    Dropout(0.1),  \n",
    "    Dense(1, activation='sigmoid')\n",
    "\n",
    "])"
   ]
  },
  {
   "cell_type": "code",
   "execution_count": 7,
   "id": "506b8f43",
   "metadata": {},
   "outputs": [
    {
     "name": "stdout",
     "output_type": "stream",
     "text": [
      "Model: \"sequential\"\n",
      "_________________________________________________________________\n",
      " Layer (type)                Output Shape              Param #   \n",
      "=================================================================\n",
      " lstm (LSTM)                 (None, 16, 512)           1052672   \n",
      "                                                                 \n",
      " dropout (Dropout)           (None, 16, 512)           0         \n",
      "                                                                 \n",
      " lstm_1 (LSTM)               (None, 256)               787456    \n",
      "                                                                 \n",
      " dropout_1 (Dropout)         (None, 256)               0         \n",
      "                                                                 \n",
      " dense (Dense)               (None, 1)                 257       \n",
      "                                                                 \n",
      "=================================================================\n",
      "Total params: 1,840,385\n",
      "Trainable params: 1,840,385\n",
      "Non-trainable params: 0\n",
      "_________________________________________________________________\n"
     ]
    }
   ],
   "source": [
    "lstm_model.summary()"
   ]
  },
  {
   "cell_type": "markdown",
   "id": "eb635684",
   "metadata": {},
   "source": [
    "# 3. Model Compilation"
   ]
  },
  {
   "cell_type": "code",
   "execution_count": 8,
   "id": "3664aa44",
   "metadata": {},
   "outputs": [],
   "source": [
    "lstm_model.compile(optimizer=Adam(learning_rate=learning_rate), loss='binary_crossentropy', metrics=['accuracy'])"
   ]
  },
  {
   "cell_type": "markdown",
   "id": "2fe28618-16f9-480c-8315-1f2f76393932",
   "metadata": {},
   "source": [
    "## EarlyStopping Callback"
   ]
  },
  {
   "cell_type": "code",
   "execution_count": 9,
   "id": "cc735f03-62c4-4d3a-903f-28859a8aa2b3",
   "metadata": {},
   "outputs": [],
   "source": [
    "from keras.callbacks import EarlyStopping"
   ]
  },
  {
   "cell_type": "code",
   "execution_count": 10,
   "id": "9a75bfb6-57e7-4738-a26e-a249828dfea2",
   "metadata": {},
   "outputs": [],
   "source": [
    "early_stopping = EarlyStopping(monitor='val_loss', patience=30, restore_best_weights=True)"
   ]
  },
  {
   "cell_type": "markdown",
   "id": "8f45ddbe-553d-4ad0-a3aa-910696521f13",
   "metadata": {},
   "source": [
    "## Model Checkpoints Callback"
   ]
  },
  {
   "cell_type": "code",
   "execution_count": 11,
   "id": "bbb57c35-c4bf-4dcf-a089-e97969418832",
   "metadata": {},
   "outputs": [],
   "source": [
    "import os\n",
    "from keras.models import load_model\n",
    "from keras.callbacks import ModelCheckpoint"
   ]
  },
  {
   "cell_type": "code",
   "execution_count": 12,
   "id": "1d9da58f-e276-4d2f-b997-fdf6c1f0bdab",
   "metadata": {},
   "outputs": [],
   "source": [
    "checkpoint_path = '/Model Checkpoints/LSTM_Model_Checkpoint.h5'"
   ]
  },
  {
   "cell_type": "markdown",
   "id": "ea3fe590-2645-4cd9-b342-08ad76fec78e",
   "metadata": {},
   "source": [
    "### Check if the checkpoint file exists"
   ]
  },
  {
   "cell_type": "code",
   "execution_count": 13,
   "id": "243e066b-2a56-4dad-8286-bc9b2490e734",
   "metadata": {},
   "outputs": [
    {
     "name": "stdout",
     "output_type": "stream",
     "text": [
      "Checkpoint not found. Initializing new model...\n"
     ]
    }
   ],
   "source": [
    "if os.path.exists(checkpoint_path):\n",
    "    print(\"Loading model from checkpoint...\")\n",
    "    model = load_model(checkpoint_path)\n",
    "else:\n",
    "    print(\"Checkpoint not found. Initializing new model...\")"
   ]
  },
  {
   "cell_type": "markdown",
   "id": "e1cae5f0-e1c7-4782-b9d2-fc5d3d068e6e",
   "metadata": {},
   "source": [
    "### Create the checkpoint callback"
   ]
  },
  {
   "cell_type": "code",
   "execution_count": 14,
   "id": "3125f218-1eed-44af-9024-e6246f81150f",
   "metadata": {},
   "outputs": [],
   "source": [
    "checkpoint = ModelCheckpoint(\n",
    "    filepath=checkpoint_path, \n",
    "    monitor='val_loss', \n",
    "    verbose=1, \n",
    "    save_best_only=True, \n",
    "    mode='min'\n",
    ")"
   ]
  },
  {
   "cell_type": "markdown",
   "id": "f4fe5fb9",
   "metadata": {},
   "source": [
    "# 4. Fit Network"
   ]
  },
  {
   "cell_type": "code",
   "execution_count": 15,
   "id": "b209aa25",
   "metadata": {},
   "outputs": [
    {
     "name": "stdout",
     "output_type": "stream",
     "text": [
      "Epoch 1/500\n",
      " 60/799 [=>............................] - ETA: 46s - loss: 0.6674 - accuracy: 0.5912"
     ]
    },
    {
     "ename": "KeyboardInterrupt",
     "evalue": "",
     "output_type": "error",
     "traceback": [
      "\u001b[1;31m---------------------------------------------------------------------------\u001b[0m",
      "\u001b[1;31mKeyboardInterrupt\u001b[0m                         Traceback (most recent call last)",
      "Cell \u001b[1;32mIn[15], line 3\u001b[0m\n\u001b[0;32m      1\u001b[0m start_time \u001b[38;5;241m=\u001b[39m time\u001b[38;5;241m.\u001b[39mtime()\n\u001b[1;32m----> 3\u001b[0m history \u001b[38;5;241m=\u001b[39m \u001b[43mlstm_model\u001b[49m\u001b[38;5;241;43m.\u001b[39;49m\u001b[43mfit\u001b[49m\u001b[43m(\u001b[49m\u001b[43mX_train_reshaped\u001b[49m\u001b[43m,\u001b[49m\u001b[43m \u001b[49m\u001b[43my_train\u001b[49m\u001b[43m,\u001b[49m\n\u001b[0;32m      4\u001b[0m \u001b[43m                         \u001b[49m\u001b[43mbatch_size\u001b[49m\u001b[38;5;241;43m=\u001b[39;49m\u001b[43mbatch_size\u001b[49m\u001b[43m,\u001b[49m\n\u001b[0;32m      5\u001b[0m \u001b[43m                         \u001b[49m\u001b[43mepochs\u001b[49m\u001b[38;5;241;43m=\u001b[39;49m\u001b[43mepochs\u001b[49m\u001b[43m,\u001b[49m\n\u001b[0;32m      6\u001b[0m \u001b[43m                         \u001b[49m\u001b[43mvalidation_split\u001b[49m\u001b[38;5;241;43m=\u001b[39;49m\u001b[38;5;241;43m0.1\u001b[39;49m\u001b[43m,\u001b[49m\n\u001b[0;32m      7\u001b[0m \u001b[43m                         \u001b[49m\u001b[43mcallbacks\u001b[49m\u001b[38;5;241;43m=\u001b[39;49m\u001b[43m[\u001b[49m\u001b[43mcheckpoint\u001b[49m\u001b[43m,\u001b[49m\u001b[43m \u001b[49m\u001b[43mearly_stopping\u001b[49m\u001b[43m]\u001b[49m\u001b[43m,\u001b[49m\u001b[43m  \u001b[49m\n\u001b[0;32m      8\u001b[0m \u001b[43m                         \u001b[49m\u001b[43mverbose\u001b[49m\u001b[38;5;241;43m=\u001b[39;49m\u001b[38;5;241;43m1\u001b[39;49m\u001b[43m)\u001b[49m\n\u001b[0;32m     10\u001b[0m end_time \u001b[38;5;241m=\u001b[39m time\u001b[38;5;241m.\u001b[39mtime()\n\u001b[0;32m     12\u001b[0m training_time \u001b[38;5;241m=\u001b[39m end_time \u001b[38;5;241m-\u001b[39m start_time\n",
      "File \u001b[1;32m~\\anaconda3\\envs\\gpu\\lib\\site-packages\\keras\\utils\\traceback_utils.py:65\u001b[0m, in \u001b[0;36mfilter_traceback.<locals>.error_handler\u001b[1;34m(*args, **kwargs)\u001b[0m\n\u001b[0;32m     63\u001b[0m filtered_tb \u001b[38;5;241m=\u001b[39m \u001b[38;5;28;01mNone\u001b[39;00m\n\u001b[0;32m     64\u001b[0m \u001b[38;5;28;01mtry\u001b[39;00m:\n\u001b[1;32m---> 65\u001b[0m     \u001b[38;5;28;01mreturn\u001b[39;00m fn(\u001b[38;5;241m*\u001b[39margs, \u001b[38;5;241m*\u001b[39m\u001b[38;5;241m*\u001b[39mkwargs)\n\u001b[0;32m     66\u001b[0m \u001b[38;5;28;01mexcept\u001b[39;00m \u001b[38;5;167;01mException\u001b[39;00m \u001b[38;5;28;01mas\u001b[39;00m e:\n\u001b[0;32m     67\u001b[0m     filtered_tb \u001b[38;5;241m=\u001b[39m _process_traceback_frames(e\u001b[38;5;241m.\u001b[39m__traceback__)\n",
      "File \u001b[1;32m~\\anaconda3\\envs\\gpu\\lib\\site-packages\\keras\\engine\\training.py:1564\u001b[0m, in \u001b[0;36mModel.fit\u001b[1;34m(self, x, y, batch_size, epochs, verbose, callbacks, validation_split, validation_data, shuffle, class_weight, sample_weight, initial_epoch, steps_per_epoch, validation_steps, validation_batch_size, validation_freq, max_queue_size, workers, use_multiprocessing)\u001b[0m\n\u001b[0;32m   1556\u001b[0m \u001b[38;5;28;01mwith\u001b[39;00m tf\u001b[38;5;241m.\u001b[39mprofiler\u001b[38;5;241m.\u001b[39mexperimental\u001b[38;5;241m.\u001b[39mTrace(\n\u001b[0;32m   1557\u001b[0m     \u001b[38;5;124m\"\u001b[39m\u001b[38;5;124mtrain\u001b[39m\u001b[38;5;124m\"\u001b[39m,\n\u001b[0;32m   1558\u001b[0m     epoch_num\u001b[38;5;241m=\u001b[39mepoch,\n\u001b[1;32m   (...)\u001b[0m\n\u001b[0;32m   1561\u001b[0m     _r\u001b[38;5;241m=\u001b[39m\u001b[38;5;241m1\u001b[39m,\n\u001b[0;32m   1562\u001b[0m ):\n\u001b[0;32m   1563\u001b[0m     callbacks\u001b[38;5;241m.\u001b[39mon_train_batch_begin(step)\n\u001b[1;32m-> 1564\u001b[0m     tmp_logs \u001b[38;5;241m=\u001b[39m \u001b[38;5;28;43mself\u001b[39;49m\u001b[38;5;241;43m.\u001b[39;49m\u001b[43mtrain_function\u001b[49m\u001b[43m(\u001b[49m\u001b[43miterator\u001b[49m\u001b[43m)\u001b[49m\n\u001b[0;32m   1565\u001b[0m     \u001b[38;5;28;01mif\u001b[39;00m data_handler\u001b[38;5;241m.\u001b[39mshould_sync:\n\u001b[0;32m   1566\u001b[0m         context\u001b[38;5;241m.\u001b[39masync_wait()\n",
      "File \u001b[1;32m~\\anaconda3\\envs\\gpu\\lib\\site-packages\\tensorflow\\python\\util\\traceback_utils.py:150\u001b[0m, in \u001b[0;36mfilter_traceback.<locals>.error_handler\u001b[1;34m(*args, **kwargs)\u001b[0m\n\u001b[0;32m    148\u001b[0m filtered_tb \u001b[38;5;241m=\u001b[39m \u001b[38;5;28;01mNone\u001b[39;00m\n\u001b[0;32m    149\u001b[0m \u001b[38;5;28;01mtry\u001b[39;00m:\n\u001b[1;32m--> 150\u001b[0m   \u001b[38;5;28;01mreturn\u001b[39;00m fn(\u001b[38;5;241m*\u001b[39margs, \u001b[38;5;241m*\u001b[39m\u001b[38;5;241m*\u001b[39mkwargs)\n\u001b[0;32m    151\u001b[0m \u001b[38;5;28;01mexcept\u001b[39;00m \u001b[38;5;167;01mException\u001b[39;00m \u001b[38;5;28;01mas\u001b[39;00m e:\n\u001b[0;32m    152\u001b[0m   filtered_tb \u001b[38;5;241m=\u001b[39m _process_traceback_frames(e\u001b[38;5;241m.\u001b[39m__traceback__)\n",
      "File \u001b[1;32m~\\anaconda3\\envs\\gpu\\lib\\site-packages\\tensorflow\\python\\eager\\def_function.py:915\u001b[0m, in \u001b[0;36mFunction.__call__\u001b[1;34m(self, *args, **kwds)\u001b[0m\n\u001b[0;32m    912\u001b[0m compiler \u001b[38;5;241m=\u001b[39m \u001b[38;5;124m\"\u001b[39m\u001b[38;5;124mxla\u001b[39m\u001b[38;5;124m\"\u001b[39m \u001b[38;5;28;01mif\u001b[39;00m \u001b[38;5;28mself\u001b[39m\u001b[38;5;241m.\u001b[39m_jit_compile \u001b[38;5;28;01melse\u001b[39;00m \u001b[38;5;124m\"\u001b[39m\u001b[38;5;124mnonXla\u001b[39m\u001b[38;5;124m\"\u001b[39m\n\u001b[0;32m    914\u001b[0m \u001b[38;5;28;01mwith\u001b[39;00m OptionalXlaContext(\u001b[38;5;28mself\u001b[39m\u001b[38;5;241m.\u001b[39m_jit_compile):\n\u001b[1;32m--> 915\u001b[0m   result \u001b[38;5;241m=\u001b[39m \u001b[38;5;28mself\u001b[39m\u001b[38;5;241m.\u001b[39m_call(\u001b[38;5;241m*\u001b[39margs, \u001b[38;5;241m*\u001b[39m\u001b[38;5;241m*\u001b[39mkwds)\n\u001b[0;32m    917\u001b[0m new_tracing_count \u001b[38;5;241m=\u001b[39m \u001b[38;5;28mself\u001b[39m\u001b[38;5;241m.\u001b[39mexperimental_get_tracing_count()\n\u001b[0;32m    918\u001b[0m without_tracing \u001b[38;5;241m=\u001b[39m (tracing_count \u001b[38;5;241m==\u001b[39m new_tracing_count)\n",
      "File \u001b[1;32m~\\anaconda3\\envs\\gpu\\lib\\site-packages\\tensorflow\\python\\eager\\def_function.py:947\u001b[0m, in \u001b[0;36mFunction._call\u001b[1;34m(self, *args, **kwds)\u001b[0m\n\u001b[0;32m    944\u001b[0m   \u001b[38;5;28mself\u001b[39m\u001b[38;5;241m.\u001b[39m_lock\u001b[38;5;241m.\u001b[39mrelease()\n\u001b[0;32m    945\u001b[0m   \u001b[38;5;66;03m# In this case we have created variables on the first call, so we run the\u001b[39;00m\n\u001b[0;32m    946\u001b[0m   \u001b[38;5;66;03m# defunned version which is guaranteed to never create variables.\u001b[39;00m\n\u001b[1;32m--> 947\u001b[0m   \u001b[38;5;28;01mreturn\u001b[39;00m \u001b[38;5;28mself\u001b[39m\u001b[38;5;241m.\u001b[39m_stateless_fn(\u001b[38;5;241m*\u001b[39margs, \u001b[38;5;241m*\u001b[39m\u001b[38;5;241m*\u001b[39mkwds)  \u001b[38;5;66;03m# pylint: disable=not-callable\u001b[39;00m\n\u001b[0;32m    948\u001b[0m \u001b[38;5;28;01melif\u001b[39;00m \u001b[38;5;28mself\u001b[39m\u001b[38;5;241m.\u001b[39m_stateful_fn \u001b[38;5;129;01mis\u001b[39;00m \u001b[38;5;129;01mnot\u001b[39;00m \u001b[38;5;28;01mNone\u001b[39;00m:\n\u001b[0;32m    949\u001b[0m   \u001b[38;5;66;03m# Release the lock early so that multiple threads can perform the call\u001b[39;00m\n\u001b[0;32m    950\u001b[0m   \u001b[38;5;66;03m# in parallel.\u001b[39;00m\n\u001b[0;32m    951\u001b[0m   \u001b[38;5;28mself\u001b[39m\u001b[38;5;241m.\u001b[39m_lock\u001b[38;5;241m.\u001b[39mrelease()\n",
      "File \u001b[1;32m~\\anaconda3\\envs\\gpu\\lib\\site-packages\\tensorflow\\python\\eager\\function.py:2496\u001b[0m, in \u001b[0;36mFunction.__call__\u001b[1;34m(self, *args, **kwargs)\u001b[0m\n\u001b[0;32m   2493\u001b[0m \u001b[38;5;28;01mwith\u001b[39;00m \u001b[38;5;28mself\u001b[39m\u001b[38;5;241m.\u001b[39m_lock:\n\u001b[0;32m   2494\u001b[0m   (graph_function,\n\u001b[0;32m   2495\u001b[0m    filtered_flat_args) \u001b[38;5;241m=\u001b[39m \u001b[38;5;28mself\u001b[39m\u001b[38;5;241m.\u001b[39m_maybe_define_function(args, kwargs)\n\u001b[1;32m-> 2496\u001b[0m \u001b[38;5;28;01mreturn\u001b[39;00m \u001b[43mgraph_function\u001b[49m\u001b[38;5;241;43m.\u001b[39;49m\u001b[43m_call_flat\u001b[49m\u001b[43m(\u001b[49m\n\u001b[0;32m   2497\u001b[0m \u001b[43m    \u001b[49m\u001b[43mfiltered_flat_args\u001b[49m\u001b[43m,\u001b[49m\u001b[43m \u001b[49m\u001b[43mcaptured_inputs\u001b[49m\u001b[38;5;241;43m=\u001b[39;49m\u001b[43mgraph_function\u001b[49m\u001b[38;5;241;43m.\u001b[39;49m\u001b[43mcaptured_inputs\u001b[49m\u001b[43m)\u001b[49m\n",
      "File \u001b[1;32m~\\anaconda3\\envs\\gpu\\lib\\site-packages\\tensorflow\\python\\eager\\function.py:1862\u001b[0m, in \u001b[0;36mConcreteFunction._call_flat\u001b[1;34m(self, args, captured_inputs, cancellation_manager)\u001b[0m\n\u001b[0;32m   1858\u001b[0m possible_gradient_type \u001b[38;5;241m=\u001b[39m gradients_util\u001b[38;5;241m.\u001b[39mPossibleTapeGradientTypes(args)\n\u001b[0;32m   1859\u001b[0m \u001b[38;5;28;01mif\u001b[39;00m (possible_gradient_type \u001b[38;5;241m==\u001b[39m gradients_util\u001b[38;5;241m.\u001b[39mPOSSIBLE_GRADIENT_TYPES_NONE\n\u001b[0;32m   1860\u001b[0m     \u001b[38;5;129;01mand\u001b[39;00m executing_eagerly):\n\u001b[0;32m   1861\u001b[0m   \u001b[38;5;66;03m# No tape is watching; skip to running the function.\u001b[39;00m\n\u001b[1;32m-> 1862\u001b[0m   \u001b[38;5;28;01mreturn\u001b[39;00m \u001b[38;5;28mself\u001b[39m\u001b[38;5;241m.\u001b[39m_build_call_outputs(\u001b[38;5;28;43mself\u001b[39;49m\u001b[38;5;241;43m.\u001b[39;49m\u001b[43m_inference_function\u001b[49m\u001b[38;5;241;43m.\u001b[39;49m\u001b[43mcall\u001b[49m\u001b[43m(\u001b[49m\n\u001b[0;32m   1863\u001b[0m \u001b[43m      \u001b[49m\u001b[43mctx\u001b[49m\u001b[43m,\u001b[49m\u001b[43m \u001b[49m\u001b[43margs\u001b[49m\u001b[43m,\u001b[49m\u001b[43m \u001b[49m\u001b[43mcancellation_manager\u001b[49m\u001b[38;5;241;43m=\u001b[39;49m\u001b[43mcancellation_manager\u001b[49m\u001b[43m)\u001b[49m)\n\u001b[0;32m   1864\u001b[0m forward_backward \u001b[38;5;241m=\u001b[39m \u001b[38;5;28mself\u001b[39m\u001b[38;5;241m.\u001b[39m_select_forward_and_backward_functions(\n\u001b[0;32m   1865\u001b[0m     args,\n\u001b[0;32m   1866\u001b[0m     possible_gradient_type,\n\u001b[0;32m   1867\u001b[0m     executing_eagerly)\n\u001b[0;32m   1868\u001b[0m forward_function, args_with_tangents \u001b[38;5;241m=\u001b[39m forward_backward\u001b[38;5;241m.\u001b[39mforward()\n",
      "File \u001b[1;32m~\\anaconda3\\envs\\gpu\\lib\\site-packages\\tensorflow\\python\\eager\\function.py:499\u001b[0m, in \u001b[0;36m_EagerDefinedFunction.call\u001b[1;34m(self, ctx, args, cancellation_manager)\u001b[0m\n\u001b[0;32m    497\u001b[0m \u001b[38;5;28;01mwith\u001b[39;00m _InterpolateFunctionError(\u001b[38;5;28mself\u001b[39m):\n\u001b[0;32m    498\u001b[0m   \u001b[38;5;28;01mif\u001b[39;00m cancellation_manager \u001b[38;5;129;01mis\u001b[39;00m \u001b[38;5;28;01mNone\u001b[39;00m:\n\u001b[1;32m--> 499\u001b[0m     outputs \u001b[38;5;241m=\u001b[39m \u001b[43mexecute\u001b[49m\u001b[38;5;241;43m.\u001b[39;49m\u001b[43mexecute\u001b[49m\u001b[43m(\u001b[49m\n\u001b[0;32m    500\u001b[0m \u001b[43m        \u001b[49m\u001b[38;5;28;43mstr\u001b[39;49m\u001b[43m(\u001b[49m\u001b[38;5;28;43mself\u001b[39;49m\u001b[38;5;241;43m.\u001b[39;49m\u001b[43msignature\u001b[49m\u001b[38;5;241;43m.\u001b[39;49m\u001b[43mname\u001b[49m\u001b[43m)\u001b[49m\u001b[43m,\u001b[49m\n\u001b[0;32m    501\u001b[0m \u001b[43m        \u001b[49m\u001b[43mnum_outputs\u001b[49m\u001b[38;5;241;43m=\u001b[39;49m\u001b[38;5;28;43mself\u001b[39;49m\u001b[38;5;241;43m.\u001b[39;49m\u001b[43m_num_outputs\u001b[49m\u001b[43m,\u001b[49m\n\u001b[0;32m    502\u001b[0m \u001b[43m        \u001b[49m\u001b[43minputs\u001b[49m\u001b[38;5;241;43m=\u001b[39;49m\u001b[43margs\u001b[49m\u001b[43m,\u001b[49m\n\u001b[0;32m    503\u001b[0m \u001b[43m        \u001b[49m\u001b[43mattrs\u001b[49m\u001b[38;5;241;43m=\u001b[39;49m\u001b[43mattrs\u001b[49m\u001b[43m,\u001b[49m\n\u001b[0;32m    504\u001b[0m \u001b[43m        \u001b[49m\u001b[43mctx\u001b[49m\u001b[38;5;241;43m=\u001b[39;49m\u001b[43mctx\u001b[49m\u001b[43m)\u001b[49m\n\u001b[0;32m    505\u001b[0m   \u001b[38;5;28;01melse\u001b[39;00m:\n\u001b[0;32m    506\u001b[0m     outputs \u001b[38;5;241m=\u001b[39m execute\u001b[38;5;241m.\u001b[39mexecute_with_cancellation(\n\u001b[0;32m    507\u001b[0m         \u001b[38;5;28mstr\u001b[39m(\u001b[38;5;28mself\u001b[39m\u001b[38;5;241m.\u001b[39msignature\u001b[38;5;241m.\u001b[39mname),\n\u001b[0;32m    508\u001b[0m         num_outputs\u001b[38;5;241m=\u001b[39m\u001b[38;5;28mself\u001b[39m\u001b[38;5;241m.\u001b[39m_num_outputs,\n\u001b[1;32m   (...)\u001b[0m\n\u001b[0;32m    511\u001b[0m         ctx\u001b[38;5;241m=\u001b[39mctx,\n\u001b[0;32m    512\u001b[0m         cancellation_manager\u001b[38;5;241m=\u001b[39mcancellation_manager)\n",
      "File \u001b[1;32m~\\anaconda3\\envs\\gpu\\lib\\site-packages\\tensorflow\\python\\eager\\execute.py:54\u001b[0m, in \u001b[0;36mquick_execute\u001b[1;34m(op_name, num_outputs, inputs, attrs, ctx, name)\u001b[0m\n\u001b[0;32m     52\u001b[0m \u001b[38;5;28;01mtry\u001b[39;00m:\n\u001b[0;32m     53\u001b[0m   ctx\u001b[38;5;241m.\u001b[39mensure_initialized()\n\u001b[1;32m---> 54\u001b[0m   tensors \u001b[38;5;241m=\u001b[39m \u001b[43mpywrap_tfe\u001b[49m\u001b[38;5;241;43m.\u001b[39;49m\u001b[43mTFE_Py_Execute\u001b[49m\u001b[43m(\u001b[49m\u001b[43mctx\u001b[49m\u001b[38;5;241;43m.\u001b[39;49m\u001b[43m_handle\u001b[49m\u001b[43m,\u001b[49m\u001b[43m \u001b[49m\u001b[43mdevice_name\u001b[49m\u001b[43m,\u001b[49m\u001b[43m \u001b[49m\u001b[43mop_name\u001b[49m\u001b[43m,\u001b[49m\n\u001b[0;32m     55\u001b[0m \u001b[43m                                      \u001b[49m\u001b[43minputs\u001b[49m\u001b[43m,\u001b[49m\u001b[43m \u001b[49m\u001b[43mattrs\u001b[49m\u001b[43m,\u001b[49m\u001b[43m \u001b[49m\u001b[43mnum_outputs\u001b[49m\u001b[43m)\u001b[49m\n\u001b[0;32m     56\u001b[0m \u001b[38;5;28;01mexcept\u001b[39;00m core\u001b[38;5;241m.\u001b[39m_NotOkStatusException \u001b[38;5;28;01mas\u001b[39;00m e:\n\u001b[0;32m     57\u001b[0m   \u001b[38;5;28;01mif\u001b[39;00m name \u001b[38;5;129;01mis\u001b[39;00m \u001b[38;5;129;01mnot\u001b[39;00m \u001b[38;5;28;01mNone\u001b[39;00m:\n",
      "\u001b[1;31mKeyboardInterrupt\u001b[0m: "
     ]
    },
    {
     "name": "stdout",
     "output_type": "stream",
     "text": [
      "799/799 [==============================] - 20s 25ms/step - loss: 0.2429 - accuracy: 0.8900 - val_loss: 0.2995 - val_accuracy: 0.8672\n",
      "Epoch 114/500\n",
      "799/799 [==============================] - 20s 25ms/step - loss: 0.2357 - accuracy: 0.8931 - val_loss: 0.2999 - val_accuracy: 0.8692\n",
      "Epoch 115/500\n",
      "799/799 [==============================] - 20s 25ms/step - loss: 0.2377 - accuracy: 0.8920 - val_loss: 0.3015 - val_accuracy: 0.8681\n",
      "Epoch 116/500\n",
      "799/799 [==============================] - 19s 24ms/step - loss: 0.2346 - accuracy: 0.8937 - val_loss: 0.3017 - val_accuracy: 0.8690\n",
      "Epoch 117/500\n",
      "799/799 [==============================] - 20s 25ms/step - loss: 0.2327 - accuracy: 0.8942 - val_loss: 0.3020 - val_accuracy: 0.8677\n",
      "Epoch 118/500\n",
      "799/799 [==============================] - 20s 25ms/step - loss: 0.2327 - accuracy: 0.8948 - val_loss: 0.3028 - val_accuracy: 0.8695\n",
      "Epoch 119/500\n",
      "799/799 [==============================] - 20s 25ms/step - loss: 0.2351 - accuracy: 0.8941 - val_loss: 0.2987 - val_accuracy: 0.8696\n",
      "Epoch 120/500\n",
      "799/799 [==============================] - 20s 25ms/step - loss: 0.2340 - accuracy: 0.8946 - val_loss: 0.3028 - val_accuracy: 0.8679\n",
      "Epoch 121/500\n",
      "799/799 [==============================] - 20s 25ms/step - loss: 0.2349 - accuracy: 0.8945 - val_loss: 0.3002 - val_accuracy: 0.8712\n",
      "Epoch 122/500\n",
      "799/799 [==============================] - 20s 25ms/step - loss: 0.2267 - accuracy: 0.8976 - val_loss: 0.3007 - val_accuracy: 0.8688\n",
      "Epoch 123/500\n",
      "799/799 [==============================] - 20s 25ms/step - loss: 0.2279 - accuracy: 0.8967 - val_loss: 0.2998 - val_accuracy: 0.8701\n",
      "Epoch 124/500\n",
      "799/799 [==============================] - 20s 25ms/step - loss: 0.2339 - accuracy: 0.8958 - val_loss: 0.3002 - val_accuracy: 0.8715\n",
      "Epoch 125/500\n",
      "799/799 [==============================] - 20s 25ms/step - loss: 0.2267 - accuracy: 0.8975 - val_loss: 0.2954 - val_accuracy: 0.8719\n",
      "Epoch 126/500\n",
      "799/799 [==============================] - 20s 25ms/step - loss: 0.2236 - accuracy: 0.8994 - val_loss: 0.2999 - val_accuracy: 0.8708\n",
      "Epoch 127/500\n",
      "799/799 [==============================] - 20s 25ms/step - loss: 0.2243 - accuracy: 0.8995 - val_loss: 0.3017 - val_accuracy: 0.8710\n",
      "Epoch 128/500\n",
      "799/799 [==============================] - 20s 25ms/step - loss: 0.2272 - accuracy: 0.8984 - val_loss: 0.2992 - val_accuracy: 0.8712\n",
      "Epoch 129/500\n",
      "799/799 [==============================] - 19s 24ms/step - loss: 0.2222 - accuracy: 0.9004 - val_loss: 0.2982 - val_accuracy: 0.8716\n",
      "Epoch 130/500\n",
      "799/799 [==============================] - 19s 24ms/step - loss: 0.2211 - accuracy: 0.9002 - val_loss: 0.2979 - val_accuracy: 0.8730\n",
      "Epoch 131/500\n",
      "799/799 [==============================] - 20s 24ms/step - loss: 0.2198 - accuracy: 0.9011 - val_loss: 0.2968 - val_accuracy: 0.8723\n",
      "Epoch 132/500\n",
      "799/799 [==============================] - 20s 25ms/step - loss: 0.2197 - accuracy: 0.9010 - val_loss: 0.2992 - val_accuracy: 0.8722\n",
      "Epoch 133/500\n",
      "799/799 [==============================] - 20s 25ms/step - loss: 0.2232 - accuracy: 0.9011 - val_loss: 0.2961 - val_accuracy: 0.8734\n",
      "Epoch 134/500\n",
      "799/799 [==============================] - 20s 25ms/step - loss: 0.2168 - accuracy: 0.9025 - val_loss: 0.3089 - val_accuracy: 0.8700\n",
      "Epoch 135/500\n",
      "799/799 [==============================] - 21s 26ms/step - loss: 0.2193 - accuracy: 0.9025 - val_loss: 0.2949 - val_accuracy: 0.8737\n",
      "Epoch 136/500\n",
      "799/799 [==============================] - 20s 25ms/step - loss: 0.2135 - accuracy: 0.9041 - val_loss: 0.2980 - val_accuracy: 0.8737\n",
      "Epoch 137/500\n",
      "799/799 [==============================] - 20s 25ms/step - loss: 0.2170 - accuracy: 0.9034 - val_loss: 0.3174 - val_accuracy: 0.8702\n",
      "Epoch 138/500\n",
      "799/799 [==============================] - 20s 25ms/step - loss: 0.2290 - accuracy: 0.8993 - val_loss: 0.2977 - val_accuracy: 0.8735\n",
      "Epoch 139/500\n",
      "799/799 [==============================] - 20s 25ms/step - loss: 0.2159 - accuracy: 0.9035 - val_loss: 0.2988 - val_accuracy: 0.8742\n",
      "Epoch 140/500\n",
      "799/799 [==============================] - 20s 25ms/step - loss: 0.2118 - accuracy: 0.9058 - val_loss: 0.2936 - val_accuracy: 0.8763\n",
      "Epoch 141/500\n",
      "799/799 [==============================] - 20s 25ms/step - loss: 0.2268 - accuracy: 0.9027 - val_loss: 0.3564 - val_accuracy: 0.8664\n",
      "Epoch 142/500\n",
      "799/799 [==============================] - 20s 25ms/step - loss: 0.2820 - accuracy: 0.8914 - val_loss: 0.3034 - val_accuracy: 0.8721\n",
      "Epoch 143/500\n",
      "799/799 [==============================] - 19s 24ms/step - loss: 0.2217 - accuracy: 0.9037 - val_loss: 0.2956 - val_accuracy: 0.8759\n",
      "Epoch 144/500\n",
      "799/799 [==============================] - 19s 24ms/step - loss: 0.2156 - accuracy: 0.9051 - val_loss: 0.2939 - val_accuracy: 0.8760\n",
      "Epoch 145/500\n",
      "799/799 [==============================] - 20s 25ms/step - loss: 0.2223 - accuracy: 0.9040 - val_loss: 0.2958 - val_accuracy: 0.8752\n",
      "Epoch 146/500\n",
      "799/799 [==============================] - 19s 24ms/step - loss: 0.2141 - accuracy: 0.9059 - val_loss: 0.2936 - val_accuracy: 0.8753\n",
      "Epoch 147/500\n",
      "799/799 [==============================] - 20s 25ms/step - loss: 0.2074 - accuracy: 0.9076 - val_loss: 0.2922 - val_accuracy: 0.8762\n",
      "Epoch 148/500\n",
      "799/799 [==============================] - 20s 25ms/step - loss: 0.2077 - accuracy: 0.9076 - val_loss: 0.2918 - val_accuracy: 0.8786\n",
      "Epoch 149/500\n",
      "799/799 [==============================] - 20s 24ms/step - loss: 0.2076 - accuracy: 0.9075 - val_loss: 0.2934 - val_accuracy: 0.8784\n",
      "Epoch 150/500\n",
      "799/799 [==============================] - 20s 25ms/step - loss: 0.2066 - accuracy: 0.9084 - val_loss: 0.2922 - val_accuracy: 0.8785\n",
      "Epoch 151/500\n",
      "799/799 [==============================] - 19s 24ms/step - loss: 0.2097 - accuracy: 0.9075 - val_loss: 0.3028 - val_accuracy: 0.8739\n",
      "Epoch 152/500\n",
      "799/799 [==============================] - 19s 24ms/step - loss: 0.2088 - accuracy: 0.9079 - val_loss: 0.2949 - val_accuracy: 0.8781\n",
      "Epoch 153/500\n",
      "799/799 [==============================] - 20s 25ms/step - loss: 0.2566 - accuracy: 0.8932 - val_loss: 0.3143 - val_accuracy: 0.8664\n",
      "Epoch 154/500\n",
      "799/799 [==============================] - 19s 24ms/step - loss: 0.2193 - accuracy: 0.9029 - val_loss: 0.3029 - val_accuracy: 0.8729\n",
      "Epoch 155/500\n",
      "799/799 [==============================] - 20s 25ms/step - loss: 0.2160 - accuracy: 0.9062 - val_loss: 0.3026 - val_accuracy: 0.8740\n",
      "Epoch 156/500\n",
      "799/799 [==============================] - 20s 25ms/step - loss: 0.2085 - accuracy: 0.9078 - val_loss: 0.2959 - val_accuracy: 0.8742\n",
      "Epoch 157/500\n",
      "799/799 [==============================] - 20s 25ms/step - loss: 0.2060 - accuracy: 0.9091 - val_loss: 0.2967 - val_accuracy: 0.8754\n",
      "Epoch 158/500\n",
      "799/799 [==============================] - 20s 24ms/step - loss: 0.2069 - accuracy: 0.9089 - val_loss: 0.2951 - val_accuracy: 0.8772\n",
      "Epoch 159/500\n",
      "799/799 [==============================] - 20s 25ms/step - loss: 0.2039 - accuracy: 0.9103 - val_loss: 0.2981 - val_accuracy: 0.8763\n",
      "Epoch 160/500\n",
      "799/799 [==============================] - 20s 25ms/step - loss: 0.2021 - accuracy: 0.9109 - val_loss: 0.2956 - val_accuracy: 0.8783\n",
      "Epoch 161/500\n",
      "799/799 [==============================] - 20s 25ms/step - loss: 0.2015 - accuracy: 0.9105 - val_loss: 0.2974 - val_accuracy: 0.8777\n",
      "Epoch 162/500\n",
      "799/799 [==============================] - 20s 25ms/step - loss: 0.2022 - accuracy: 0.9112 - val_loss: 0.2994 - val_accuracy: 0.8772\n",
      "Epoch 163/500\n",
      "799/799 [==============================] - 19s 24ms/step - loss: 0.2017 - accuracy: 0.9118 - val_loss: 0.2954 - val_accuracy: 0.8776\n",
      "Epoch 164/500\n",
      "799/799 [==============================] - 18s 23ms/step - loss: 0.2035 - accuracy: 0.9109 - val_loss: 0.2974 - val_accuracy: 0.8768\n",
      "Epoch 165/500\n",
      "799/799 [==============================] - 19s 24ms/step - loss: 0.1998 - accuracy: 0.9120 - val_loss: 0.2933 - val_accuracy: 0.8792\n",
      "Epoch 166/500\n",
      "799/799 [==============================] - 19s 23ms/step - loss: 0.1990 - accuracy: 0.9123 - val_loss: 0.3056 - val_accuracy: 0.8746\n",
      "Epoch 167/500\n",
      "799/799 [==============================] - 19s 23ms/step - loss: 0.2000 - accuracy: 0.9119 - val_loss: 0.2964 - val_accuracy: 0.8790\n",
      "Epoch 168/500\n",
      "799/799 [==============================] - 19s 24ms/step - loss: 0.2003 - accuracy: 0.9120 - val_loss: 0.2965 - val_accuracy: 0.8783\n"
     ]
    },
    {
     "name": "stdout",
     "output_type": "stream",
     "text": [
      "Epoch 169/500\n",
      "799/799 [==============================] - 18s 23ms/step - loss: 0.2236 - accuracy: 0.9093 - val_loss: 0.2991 - val_accuracy: 0.8778\n",
      "Epoch 170/500\n",
      "799/799 [==============================] - 18s 23ms/step - loss: 0.2149 - accuracy: 0.9119 - val_loss: 0.3086 - val_accuracy: 0.8750\n",
      "Epoch 171/500\n",
      "799/799 [==============================] - 19s 24ms/step - loss: 0.1998 - accuracy: 0.9132 - val_loss: 0.2951 - val_accuracy: 0.8799\n",
      "Epoch 172/500\n",
      "799/799 [==============================] - 20s 25ms/step - loss: 0.1963 - accuracy: 0.9145 - val_loss: 0.2963 - val_accuracy: 0.8793\n",
      "Epoch 173/500\n",
      "799/799 [==============================] - 19s 24ms/step - loss: 0.1937 - accuracy: 0.9150 - val_loss: 0.2983 - val_accuracy: 0.8796\n",
      "Epoch 174/500\n",
      "799/799 [==============================] - 19s 24ms/step - loss: 0.1903 - accuracy: 0.9164 - val_loss: 0.2913 - val_accuracy: 0.8816\n",
      "Epoch 175/500\n",
      "799/799 [==============================] - 19s 24ms/step - loss: 0.1911 - accuracy: 0.9163 - val_loss: 0.2920 - val_accuracy: 0.8823\n",
      "Epoch 176/500\n",
      "799/799 [==============================] - 18s 23ms/step - loss: 0.1896 - accuracy: 0.9170 - val_loss: 0.2981 - val_accuracy: 0.8809\n",
      "Epoch 177/500\n",
      "799/799 [==============================] - 19s 24ms/step - loss: 0.1900 - accuracy: 0.9169 - val_loss: 0.2995 - val_accuracy: 0.8801\n",
      "Epoch 178/500\n",
      "799/799 [==============================] - 19s 24ms/step - loss: 0.1926 - accuracy: 0.9161 - val_loss: 0.2909 - val_accuracy: 0.8814\n",
      "Epoch 179/500\n",
      "799/799 [==============================] - 19s 24ms/step - loss: 0.1893 - accuracy: 0.9171 - val_loss: 0.2903 - val_accuracy: 0.8836\n",
      "Epoch 180/500\n",
      "799/799 [==============================] - 19s 24ms/step - loss: 0.1890 - accuracy: 0.9176 - val_loss: 0.2945 - val_accuracy: 0.8804\n",
      "Epoch 181/500\n",
      "799/799 [==============================] - 19s 23ms/step - loss: 0.1863 - accuracy: 0.9182 - val_loss: 0.2940 - val_accuracy: 0.8822\n",
      "Epoch 182/500\n",
      "799/799 [==============================] - 19s 23ms/step - loss: 0.1854 - accuracy: 0.9193 - val_loss: 0.2916 - val_accuracy: 0.8834\n",
      "Epoch 183/500\n",
      "799/799 [==============================] - 18s 23ms/step - loss: 0.1882 - accuracy: 0.9184 - val_loss: 0.2903 - val_accuracy: 0.8833\n",
      "Epoch 184/500\n",
      "799/799 [==============================] - 18s 23ms/step - loss: 0.1861 - accuracy: 0.9190 - val_loss: 0.2956 - val_accuracy: 0.8821\n",
      "Epoch 185/500\n",
      "799/799 [==============================] - 19s 24ms/step - loss: 0.1893 - accuracy: 0.9179 - val_loss: 0.2924 - val_accuracy: 0.8835\n",
      "Epoch 186/500\n",
      "799/799 [==============================] - 19s 24ms/step - loss: 0.1838 - accuracy: 0.9199 - val_loss: 0.2878 - val_accuracy: 0.8853\n",
      "Epoch 187/500\n",
      "799/799 [==============================] - 18s 23ms/step - loss: 0.1812 - accuracy: 0.9208 - val_loss: 0.2940 - val_accuracy: 0.8836\n",
      "Epoch 188/500\n",
      "799/799 [==============================] - 20s 25ms/step - loss: 0.1869 - accuracy: 0.9198 - val_loss: 0.2979 - val_accuracy: 0.8839\n",
      "Epoch 189/500\n",
      "799/799 [==============================] - 19s 24ms/step - loss: 0.1834 - accuracy: 0.9208 - val_loss: 0.2930 - val_accuracy: 0.8846\n",
      "Epoch 190/500\n",
      "799/799 [==============================] - 19s 24ms/step - loss: 0.1828 - accuracy: 0.9208 - val_loss: 0.2951 - val_accuracy: 0.8848\n",
      "Epoch 191/500\n",
      "799/799 [==============================] - 19s 24ms/step - loss: 0.1797 - accuracy: 0.9222 - val_loss: 0.2952 - val_accuracy: 0.8854\n",
      "Epoch 192/500\n",
      "799/799 [==============================] - 20s 25ms/step - loss: 0.1780 - accuracy: 0.9225 - val_loss: 0.2902 - val_accuracy: 0.8839\n",
      "Epoch 193/500\n",
      "799/799 [==============================] - 19s 24ms/step - loss: 0.1794 - accuracy: 0.9224 - val_loss: 0.2954 - val_accuracy: 0.8856\n",
      "Epoch 194/500\n",
      "799/799 [==============================] - 19s 24ms/step - loss: 0.1793 - accuracy: 0.9225 - val_loss: 0.2906 - val_accuracy: 0.8865\n",
      "Epoch 195/500\n",
      "799/799 [==============================] - 19s 24ms/step - loss: 0.1768 - accuracy: 0.9229 - val_loss: 0.2956 - val_accuracy: 0.8845\n",
      "Epoch 196/500\n",
      "799/799 [==============================] - 20s 24ms/step - loss: 0.1769 - accuracy: 0.9230 - val_loss: 0.2912 - val_accuracy: 0.8844\n",
      "Epoch 197/500\n",
      "799/799 [==============================] - 20s 25ms/step - loss: 0.1763 - accuracy: 0.9237 - val_loss: 0.2936 - val_accuracy: 0.8861\n",
      "Epoch 198/500\n",
      "799/799 [==============================] - 20s 25ms/step - loss: 0.1786 - accuracy: 0.9231 - val_loss: 0.2919 - val_accuracy: 0.8853\n",
      "Epoch 199/500\n",
      "799/799 [==============================] - 20s 25ms/step - loss: 0.1774 - accuracy: 0.9237 - val_loss: 0.2957 - val_accuracy: 0.8851\n",
      "Epoch 200/500\n",
      "799/799 [==============================] - 20s 25ms/step - loss: 0.1752 - accuracy: 0.9244 - val_loss: 0.2915 - val_accuracy: 0.8866\n",
      "Epoch 201/500\n",
      "799/799 [==============================] - 20s 25ms/step - loss: 0.1738 - accuracy: 0.9248 - val_loss: 0.2927 - val_accuracy: 0.8861\n",
      "Epoch 202/500\n",
      "799/799 [==============================] - 20s 25ms/step - loss: 0.1747 - accuracy: 0.9247 - val_loss: 0.3182 - val_accuracy: 0.8753\n",
      "Epoch 203/500\n",
      "799/799 [==============================] - 20s 25ms/step - loss: 0.1775 - accuracy: 0.9237 - val_loss: 0.2931 - val_accuracy: 0.8860\n",
      "Epoch 204/500\n",
      "799/799 [==============================] - 20s 26ms/step - loss: 0.1723 - accuracy: 0.9253 - val_loss: 0.2937 - val_accuracy: 0.8868\n",
      "Epoch 205/500\n",
      "799/799 [==============================] - 20s 25ms/step - loss: 0.1786 - accuracy: 0.9234 - val_loss: 0.2929 - val_accuracy: 0.8866\n",
      "Epoch 206/500\n",
      "799/799 [==============================] - 19s 24ms/step - loss: 0.1742 - accuracy: 0.9256 - val_loss: 0.2946 - val_accuracy: 0.8869\n",
      "Epoch 207/500\n",
      "799/799 [==============================] - 19s 24ms/step - loss: 0.1756 - accuracy: 0.9249 - val_loss: 0.2977 - val_accuracy: 0.8857\n",
      "Epoch 208/500\n",
      "799/799 [==============================] - 20s 25ms/step - loss: 0.1711 - accuracy: 0.9267 - val_loss: 0.2894 - val_accuracy: 0.8877\n",
      "Epoch 209/500\n",
      "799/799 [==============================] - 21s 26ms/step - loss: 0.1708 - accuracy: 0.9267 - val_loss: 0.2937 - val_accuracy: 0.8863\n",
      "Epoch 210/500\n",
      "799/799 [==============================] - 20s 25ms/step - loss: 0.1713 - accuracy: 0.9264 - val_loss: 0.2966 - val_accuracy: 0.8860\n",
      "Epoch 211/500\n",
      "799/799 [==============================] - 19s 24ms/step - loss: 0.1714 - accuracy: 0.9263 - val_loss: 0.2967 - val_accuracy: 0.8865\n",
      "Epoch 212/500\n",
      "799/799 [==============================] - 19s 24ms/step - loss: 0.1699 - accuracy: 0.9269 - val_loss: 0.2942 - val_accuracy: 0.8876\n",
      "Epoch 213/500\n",
      "799/799 [==============================] - 19s 24ms/step - loss: 0.1672 - accuracy: 0.9282 - val_loss: 0.2923 - val_accuracy: 0.8882\n",
      "Epoch 214/500\n",
      "799/799 [==============================] - 19s 24ms/step - loss: 0.1701 - accuracy: 0.9270 - val_loss: 0.2963 - val_accuracy: 0.8871\n",
      "Epoch 215/500\n",
      "799/799 [==============================] - 20s 25ms/step - loss: 0.1683 - accuracy: 0.9277 - val_loss: 0.2918 - val_accuracy: 0.8879\n",
      "Epoch 216/500\n",
      "799/799 [==============================] - 20s 25ms/step - loss: 0.1680 - accuracy: 0.9278 - val_loss: 0.2916 - val_accuracy: 0.8880\n",
      "Training Time:  4259.20539855957 seconds\n"
     ]
    }
   ],
   "source": [
    "start_time = time.time()\n",
    "\n",
    "history = lstm_model.fit(X_train_reshaped, y_train,\n",
    "                         batch_size=batch_size,\n",
    "                         epochs=epochs,\n",
    "                         validation_split=0.1,\n",
    "                         callbacks=[checkpoint, early_stopping],  \n",
    "                         verbose=1)\n",
    "\n",
    "end_time = time.time()\n",
    "\n",
    "training_time = end_time - start_time\n",
    "print(\"Training Time: \", training_time, \"seconds\")"
   ]
  },
  {
   "cell_type": "markdown",
   "id": "dafdf383-a616-492f-af1f-621915c22304",
   "metadata": {},
   "source": [
    "# Saving the model and training history "
   ]
  },
  {
   "cell_type": "code",
   "execution_count": null,
   "id": "4f95884a-36a4-4d53-9b7b-208d0c20876a",
   "metadata": {},
   "outputs": [],
   "source": [
    "lstm_model.save('LSTM_Architecture_30_Features.h5')\n",
    "np.save('LSTM_history_30_Features.npy', history.history)"
   ]
  },
  {
   "cell_type": "markdown",
   "id": "233e5813",
   "metadata": {},
   "source": [
    "# 5. Model Evaluation"
   ]
  },
  {
   "cell_type": "markdown",
   "id": "fac60871",
   "metadata": {},
   "source": [
    "# Importing Libraries - Evaluation"
   ]
  },
  {
   "cell_type": "code",
   "execution_count": null,
   "id": "6e546835",
   "metadata": {},
   "outputs": [],
   "source": [
    "import seaborn as sns\n",
    "from sklearn.metrics import roc_curve, auc\n",
    "from sklearn.metrics import confusion_matrix\n",
    "from sklearn.metrics import classification_report\n",
    "from sklearn.metrics import accuracy_score, precision_score, recall_score, f1_score, roc_auc_score"
   ]
  },
  {
   "cell_type": "markdown",
   "id": "5bd8e2a4",
   "metadata": {},
   "source": [
    "# Plotting Loss and Accuracy Curve"
   ]
  },
  {
   "cell_type": "markdown",
   "id": "decc0953",
   "metadata": {},
   "source": [
    "### Loss Curve"
   ]
  },
  {
   "cell_type": "code",
   "execution_count": null,
   "id": "de1067f7",
   "metadata": {},
   "outputs": [],
   "source": [
    "plt.figure(figsize=[8,6])\n",
    "\n",
    "plt.plot(history.history['loss'], 'r', linewidth=3.0)\n",
    "plt.plot(history.history['val_loss'], 'b', linewidth=3.0)\n",
    "\n",
    "plt.xlabel('Epochs', fontsize=16)\n",
    "plt.ylabel('Loss', fontsize=16)\n",
    "\n",
    "plt.legend(['Training Loss', 'Validation Loss'], fontsize=18)\n",
    "plt.title('Loss Curve of LSTM Neural Network - 30 Features', fontsize=16)\n",
    "\n",
    "plt.grid(True)\n",
    "plt.show()"
   ]
  },
  {
   "cell_type": "markdown",
   "id": "13d1eeae",
   "metadata": {},
   "source": [
    "### Accuracy Curve"
   ]
  },
  {
   "cell_type": "code",
   "execution_count": null,
   "id": "d8aa65d1",
   "metadata": {},
   "outputs": [],
   "source": [
    "plt.figure(figsize=[8,6])\n",
    "\n",
    "plt.plot(history.history['accuracy'], 'r', linewidth=3.0)\n",
    "plt.plot(history.history['val_accuracy'], 'b', linewidth=3.0)\n",
    "\n",
    "plt.xlabel('Epochs', fontsize=16)\n",
    "plt.ylabel('Accuracy', fontsize=16)\n",
    "\n",
    "plt.legend(['Training Accuracy', 'Validation Accuracy'], fontsize=18)\n",
    "plt.title('Accuracy Curve of LSTM Neural Network - 30 Features', fontsize=16)\n",
    "\n",
    "plt.grid(True)\n",
    "plt.show()"
   ]
  },
  {
   "cell_type": "markdown",
   "id": "c79f88bc",
   "metadata": {},
   "source": [
    "### Reshaping X_test for LSTM Model Evaluation"
   ]
  },
  {
   "cell_type": "code",
   "execution_count": null,
   "id": "928d3420",
   "metadata": {},
   "outputs": [],
   "source": [
    "X_test_array = X_test\n",
    "X_test_reshaped = X_test_array.reshape(X_test_array.shape[0], X_test_array.shape[1], 1)"
   ]
  },
  {
   "cell_type": "code",
   "execution_count": null,
   "id": "67cfa332",
   "metadata": {},
   "outputs": [],
   "source": [
    "X_test_reshaped"
   ]
  },
  {
   "cell_type": "markdown",
   "id": "5dc04b9e",
   "metadata": {},
   "source": [
    "###  Make predictions on test data"
   ]
  },
  {
   "cell_type": "code",
   "execution_count": null,
   "id": "092a3186",
   "metadata": {},
   "outputs": [],
   "source": [
    "y_pred_prob = lstm_model.predict(X_test_reshaped)\n",
    "y_pred = (y_pred_prob > 0.5).astype(int).flatten()  # Convert probabilities to classes"
   ]
  },
  {
   "cell_type": "markdown",
   "id": "e73cfada",
   "metadata": {},
   "source": [
    "# Classification Report"
   ]
  },
  {
   "cell_type": "code",
   "execution_count": null,
   "id": "50511da1",
   "metadata": {},
   "outputs": [],
   "source": [
    "test_loss, test_accuracy = lstm_model.evaluate(X_test_reshaped, y_test, verbose=0)\n",
    "print(f'Test accuracy: {test_accuracy:.2f}, Test loss: {test_loss:.2f}')"
   ]
  },
  {
   "cell_type": "code",
   "execution_count": null,
   "id": "6aa60e39",
   "metadata": {},
   "outputs": [],
   "source": [
    "classification_report = classification_report(y_test, y_pred)\n",
    "print(classification_report)"
   ]
  },
  {
   "cell_type": "markdown",
   "id": "b8585389",
   "metadata": {},
   "source": [
    "# Confusion Matrix"
   ]
  },
  {
   "cell_type": "code",
   "execution_count": null,
   "id": "7dce2fde",
   "metadata": {},
   "outputs": [],
   "source": [
    "class_labels = [\"Alert\", \"Drowsy\"]\n",
    "\n",
    "conf_matrix = confusion_matrix(y_test, y_pred)\n",
    "accuracy = accuracy_score(y_test, y_pred) * 100\n",
    "\n",
    "# Plot confusion matrix\n",
    "plt.figure(figsize=(8, 6))\n",
    "sns.heatmap(conf_matrix, annot=True, fmt='d', cmap='Blues', cbar=True, xticklabels=class_labels, yticklabels=class_labels, linewidths=.5)\n",
    "\n",
    "plt.title(f'Confusion Matrix LSTM - 30 (Accuracy: {accuracy:.2f}%)', fontsize=16)\n",
    "\n",
    "plt.xlabel('Predicted Label', fontsize=14)\n",
    "plt.ylabel('True Label', fontsize=14)\n",
    "\n",
    "plt.xticks(rotation=0, fontsize=12)  \n",
    "plt.yticks(rotation=0, fontsize=12)  \n",
    "\n",
    "plt.show()"
   ]
  },
  {
   "cell_type": "markdown",
   "id": "0f343fa0",
   "metadata": {},
   "source": [
    "# Evaluation Metrics"
   ]
  },
  {
   "cell_type": "code",
   "execution_count": null,
   "id": "2de39a2f",
   "metadata": {},
   "outputs": [],
   "source": [
    "# Calculate accuracy, precision, recall, F1-score, AUC-ROC\n",
    "\n",
    "accuracy = accuracy_score(y_test, y_pred)\n",
    "precision = precision_score(y_test, y_pred)\n",
    "recall = recall_score(y_test, y_pred)\n",
    "f1 = f1_score(y_test, y_pred)\n",
    "auc_roc = roc_auc_score(y_test, y_pred_prob)\n",
    "\n",
    "print(\"Accuracy:\", accuracy)\n",
    "print(\"Precision:\", precision)\n",
    "print(\"Recall:\", recall)\n",
    "print(\"F1-score:\", f1)\n",
    "print(\"AUC-ROC:\", auc_roc)"
   ]
  },
  {
   "cell_type": "markdown",
   "id": "af0c07a2",
   "metadata": {},
   "source": [
    "# Receiver Operating Characteristic (ROC) Curve"
   ]
  },
  {
   "cell_type": "code",
   "execution_count": null,
   "id": "40f0baa0",
   "metadata": {},
   "outputs": [],
   "source": [
    "roc_data = {}\n",
    "\n",
    "fpr, tpr, thresholds = roc_curve(y_test, y_pred_prob)\n",
    "roc_auc = auc(fpr, tpr)\n",
    "roc_data['LSTM - 30'] = {'fpr': fpr, 'tpr': tpr, 'roc_auc': roc_auc}\n",
    "\n",
    "# Plotting ROC Curves \n",
    "plt.figure(figsize=(10, 8))\n",
    "for name, data in roc_data.items():\n",
    "    plt.plot(data['fpr'], data['tpr'], lw=2, label=f'{name} (AUC = {data[\"roc_auc\"]:.2f})')\n",
    "\n",
    "plt.plot([0, 1], [0, 1], linestyle='--', color='gray', lw=2, label='Random Guessing')\n",
    "plt.xlim([0.0, 1.0])\n",
    "plt.ylim([0.0, 1.05])\n",
    "plt.xlabel('False Positive Rate', fontsize=14)\n",
    "plt.ylabel('True Positive Rate', fontsize=14)\n",
    "plt.title('Receiver Operating Characteristic (ROC) Curve', fontsize=16)\n",
    "plt.legend(loc='lower right', fontsize=12)\n",
    "plt.grid(True)\n",
    "plt.show()"
   ]
  },
  {
   "cell_type": "code",
   "execution_count": null,
   "id": "8b6fab00",
   "metadata": {},
   "outputs": [],
   "source": []
  },
  {
   "cell_type": "code",
   "execution_count": null,
   "id": "05fe25e2",
   "metadata": {},
   "outputs": [],
   "source": []
  },
  {
   "cell_type": "code",
   "execution_count": null,
   "id": "ba7597d7",
   "metadata": {},
   "outputs": [],
   "source": []
  },
  {
   "cell_type": "code",
   "execution_count": null,
   "id": "19981645-0bbf-4ad8-90fb-d33bfc70a43e",
   "metadata": {},
   "outputs": [],
   "source": []
  },
  {
   "cell_type": "code",
   "execution_count": null,
   "id": "b2a6dc22-5810-47f1-809f-8272dbec4456",
   "metadata": {},
   "outputs": [],
   "source": []
  },
  {
   "cell_type": "code",
   "execution_count": null,
   "id": "10c17a56-9243-4a7b-8496-31ef811806c6",
   "metadata": {},
   "outputs": [],
   "source": []
  },
  {
   "cell_type": "code",
   "execution_count": null,
   "id": "f797e589-9a65-466e-bb59-aba65baf9c44",
   "metadata": {},
   "outputs": [],
   "source": []
  },
  {
   "cell_type": "code",
   "execution_count": null,
   "id": "956adfe9-f33f-4293-ba76-b539fad113ad",
   "metadata": {},
   "outputs": [],
   "source": []
  },
  {
   "cell_type": "code",
   "execution_count": null,
   "id": "00d514aa-d58c-4ed4-8be3-9fc680b8e571",
   "metadata": {},
   "outputs": [],
   "source": []
  },
  {
   "cell_type": "code",
   "execution_count": null,
   "id": "8010657a-4e82-4fdb-a8f5-8f7fc502f4f0",
   "metadata": {},
   "outputs": [],
   "source": []
  },
  {
   "cell_type": "code",
   "execution_count": null,
   "id": "a8146db7-8315-4011-b5b8-e29478a47faf",
   "metadata": {},
   "outputs": [],
   "source": []
  },
  {
   "cell_type": "code",
   "execution_count": null,
   "id": "9c5328e1-f659-4322-a15c-e6d786f2f13c",
   "metadata": {},
   "outputs": [],
   "source": []
  },
  {
   "cell_type": "code",
   "execution_count": null,
   "id": "cc14b868-8fc2-4e9b-a301-8acb8466e2da",
   "metadata": {},
   "outputs": [],
   "source": []
  }
 ],
 "metadata": {
  "kernelspec": {
   "display_name": "Python 3 (ipykernel)",
   "language": "python",
   "name": "python3"
  },
  "language_info": {
   "codemirror_mode": {
    "name": "ipython",
    "version": 3
   },
   "file_extension": ".py",
   "mimetype": "text/x-python",
   "name": "python",
   "nbconvert_exporter": "python",
   "pygments_lexer": "ipython3",
   "version": "3.9.19"
  }
 },
 "nbformat": 4,
 "nbformat_minor": 5
}
